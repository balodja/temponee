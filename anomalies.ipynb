{
 "cells": [
  {
   "cell_type": "code",
   "execution_count": 2,
   "id": "constitutional-plain",
   "metadata": {},
   "outputs": [],
   "source": [
    "import numpy as np\n",
    "import matplotlib.pyplot as plt"
   ]
  },
  {
   "cell_type": "code",
   "execution_count": 30,
   "id": "narrow-chinese",
   "metadata": {},
   "outputs": [],
   "source": [
    "\"\"\"\n",
    "n -- number of experiments\n",
    "total -- total number of objects (1e5 by default)\n",
    "anomalies -- number of anomalies in objects (100 by default)\n",
    "weight -- probability weight of anomaly sampling (400 by default)\n",
    "\"\"\"\n",
    "def simulate(n, total=100000, anomalies=100, weight=400):\n",
    "    experiment = np.zeros(n)\n",
    "    rands = np.random.rand(n)\n",
    "    for i in range(n):\n",
    "        if rands[i] < 1 / (1 + (total - anomalies) / (weight * anomalies)):\n",
    "            experiment[i] = 1\n",
    "            anomalies -= 1\n",
    "\n",
    "            if anomalies == 0:\n",
    "                break\n",
    "\n",
    "    return experiment"
   ]
  },
  {
   "cell_type": "code",
   "execution_count": 31,
   "id": "pressed-jacket",
   "metadata": {
    "scrolled": true
   },
   "outputs": [
    {
     "data": {
      "text/plain": [
       "[<matplotlib.lines.Line2D at 0x7fdf6162eeb0>]"
      ]
     },
     "execution_count": 31,
     "metadata": {},
     "output_type": "execute_result"
    },
    {
     "data": {
      "image/png": "[encoded data removed]",
      "text/plain": [
       "<Figure size 432x288 with 1 Axes>"
      ]
     },
     "metadata": {
      "needs_background": "light"
     },
     "output_type": "display_data"
    }
   ],
   "source": [
    "plt.plot(np.cumsum(simulate(1000)))"
   ]
  }
 ],
 "metadata": {
  "kernelspec": {
   "display_name": "Python 3",
   "language": "python",
   "name": "python3"
  },
  "language_info": {
   "codemirror_mode": {
    "name": "ipython",
    "version": 3
   },
   "file_extension": ".py",
   "mimetype": "text/x-python",
   "name": "python",
   "nbconvert_exporter": "python",
   "pygments_lexer": "ipython3",
   "version": "3.8.9"
  }
 },
 "nbformat": 4,
 "nbformat_minor": 5
}
